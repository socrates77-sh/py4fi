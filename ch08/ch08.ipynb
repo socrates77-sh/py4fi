{
 "cells": [
  {
   "cell_type": "code",
   "execution_count": 1,
   "metadata": {
    "collapsed": true
   },
   "outputs": [],
   "source": [
    "from pylab import plt\n",
    "plt.style.use('seaborn')\n",
    "import matplotlib as mpl\n",
    "mpl.rcParams['font.family'] = 'serif'\n",
    "%matplotlib inline"
   ]
  },
  {
   "cell_type": "code",
   "execution_count": 2,
   "metadata": {
    "collapsed": true
   },
   "outputs": [],
   "source": [
    "def perf_comp_data(func_list, data_list, rep=3, number=1):\n",
    "    ''' Function to compare the performance of different functions.\n",
    "    \n",
    "    Parameters\n",
    "    ==========\n",
    "    func_list : list\n",
    "        list with function names as strings\n",
    "    data_list : list\n",
    "        list with data set names as strings\n",
    "    rep : int\n",
    "        number of repetitions of the whole comparison\n",
    "    number : int\n",
    "        number of executions for every function\n",
    "    '''\n",
    "    from timeit import repeat\n",
    "    res_list = {}\n",
    "    for name in enumerate(func_list):\n",
    "        stmt = name[1] + '(' + data_list[name[0]] + ')'\n",
    "        setup = \"from __main__ import \" + name[1] + ', ' \\\n",
    "                                    + data_list[name[0]]\n",
    "        results = repeat(stmt=stmt, setup=setup,\n",
    "                         repeat=rep, number=number)\n",
    "        res_list[name[1]] = sum(results) / rep\n",
    "    res_sort = sorted(res_list.items(),\n",
    "                      key=lambda x: (x[1], x[0]))\n",
    "    for item in res_sort:\n",
    "        rel = item[1] / res_sort[0][1]\n",
    "        print ('function: ' + item[0] +\n",
    "              ', av. time sec: %9.5f, ' % item[1]\n",
    "            + 'relative: %6.1f' % rel)"
   ]
  },
  {
   "cell_type": "code",
   "execution_count": 3,
   "metadata": {
    "collapsed": true
   },
   "outputs": [],
   "source": [
    "from math import *\n",
    "def f(x):\n",
    "    return abs(cos(x)) ** 0.5 + sin(2 + 3 * x)"
   ]
  },
  {
   "cell_type": "code",
   "execution_count": 4,
   "metadata": {
    "collapsed": true
   },
   "outputs": [],
   "source": [
    "I = 500000\n",
    "a_py = range(I)"
   ]
  },
  {
   "cell_type": "code",
   "execution_count": 5,
   "metadata": {
    "collapsed": true
   },
   "outputs": [],
   "source": [
    "def f1(a):\n",
    "    res = []\n",
    "    for x in a:\n",
    "        res.append(f(x))\n",
    "    return res"
   ]
  },
  {
   "cell_type": "code",
   "execution_count": 6,
   "metadata": {
    "collapsed": true
   },
   "outputs": [],
   "source": [
    "def f2(a):\n",
    "    return [f(x) for x in a]"
   ]
  },
  {
   "cell_type": "code",
   "execution_count": 7,
   "metadata": {
    "collapsed": true
   },
   "outputs": [],
   "source": [
    "def f3(a):\n",
    "    ex = 'abs(cos(x)) ** 0.5 + sin(2 + 3 * x)'\n",
    "    return [eval(ex) for x in a]"
   ]
  },
  {
   "cell_type": "code",
   "execution_count": 8,
   "metadata": {
    "collapsed": true
   },
   "outputs": [],
   "source": [
    "import numpy as np"
   ]
  },
  {
   "cell_type": "code",
   "execution_count": 9,
   "metadata": {
    "collapsed": true
   },
   "outputs": [],
   "source": [
    "a_np = np.arange(I)"
   ]
  },
  {
   "cell_type": "code",
   "execution_count": 10,
   "metadata": {
    "collapsed": true
   },
   "outputs": [],
   "source": [
    "def f4(a):\n",
    "    return (np.abs(np.cos(a)) ** 0.5 +\n",
    "            np.sin(2 + 3 * a))"
   ]
  },
  {
   "cell_type": "code",
   "execution_count": 11,
   "metadata": {
    "collapsed": true
   },
   "outputs": [],
   "source": [
    "import numexpr as ne"
   ]
  },
  {
   "cell_type": "code",
   "execution_count": 12,
   "metadata": {
    "collapsed": true
   },
   "outputs": [],
   "source": [
    "def f5(a):\n",
    "    ex = 'abs(cos(a)) ** 0.5 + sin(2 + 3 * a)'\n",
    "    ne.set_num_threads(1)\n",
    "    return ne.evaluate(ex)"
   ]
  },
  {
   "cell_type": "code",
   "execution_count": 13,
   "metadata": {
    "collapsed": true
   },
   "outputs": [],
   "source": [
    "def f6(a):\n",
    "    ex = 'abs(cos(a)) ** 0.5 + sin(2 + 3 * a)'\n",
    "    ne.set_num_threads(16)\n",
    "    return ne.evaluate(ex)"
   ]
  },
  {
   "cell_type": "code",
   "execution_count": 14,
   "metadata": {
    "collapsed": false
   },
   "outputs": [
    {
     "name": "stdout",
     "output_type": "stream",
     "text": [
      "Wall time: 15.1 s\n"
     ]
    }
   ],
   "source": [
    "%%time\n",
    "r1 = f1(a_py)\n",
    "r2 = f2(a_py)\n",
    "r3 = f3(a_py)\n",
    "r4 = f4(a_np)\n",
    "r5 = f5(a_np)\n",
    "r6 = f6(a_np)"
   ]
  },
  {
   "cell_type": "code",
   "execution_count": 15,
   "metadata": {
    "collapsed": true
   },
   "outputs": [],
   "source": [
    "func_list = ['f1', 'f2', 'f3', 'f4', 'f5', 'f6']\n",
    "data_list = ['a_py', 'a_py', 'a_py', 'a_np', 'a_np', 'a_np']"
   ]
  },
  {
   "cell_type": "code",
   "execution_count": 16,
   "metadata": {
    "collapsed": false
   },
   "outputs": [
    {
     "name": "stdout",
     "output_type": "stream",
     "text": [
      "function: f6, av. time sec:   0.02622, relative:    1.0\n",
      "function: f5, av. time sec:   0.06973, relative:    2.7\n",
      "function: f4, av. time sec:   0.07142, relative:    2.7\n",
      "function: f2, av. time sec:   0.67450, relative:   25.7\n",
      "function: f1, av. time sec:   0.84083, relative:   32.1\n",
      "function: f3, av. time sec:  13.71981, relative:  523.2\n"
     ]
    }
   ],
   "source": [
    "perf_comp_data(func_list, data_list)"
   ]
  },
  {
   "cell_type": "code",
   "execution_count": 17,
   "metadata": {
    "collapsed": true
   },
   "outputs": [],
   "source": [
    "x = np.random.standard_normal((3, 150000))\n",
    "C = np.array(x, order='C')\n",
    "F = np.array(x, order='F')\n",
    "x = 0.0"
   ]
  },
  {
   "cell_type": "code",
   "execution_count": 18,
   "metadata": {
    "collapsed": false
   },
   "outputs": [
    {
     "name": "stdout",
     "output_type": "stream",
     "text": [
      "1.83 ms ± 150 µs per loop (mean ± std. dev. of 7 runs, 100 loops each)\n"
     ]
    }
   ],
   "source": [
    "%timeit C.sum(axis=0)"
   ]
  },
  {
   "cell_type": "code",
   "execution_count": 19,
   "metadata": {
    "collapsed": false
   },
   "outputs": [
    {
     "name": "stdout",
     "output_type": "stream",
     "text": [
      "817 µs ± 111 µs per loop (mean ± std. dev. of 7 runs, 1000 loops each)\n"
     ]
    }
   ],
   "source": [
    "%timeit C.sum(axis=1)"
   ]
  },
  {
   "cell_type": "code",
   "execution_count": 20,
   "metadata": {
    "collapsed": false
   },
   "outputs": [
    {
     "name": "stdout",
     "output_type": "stream",
     "text": [
      "7.78 ms ± 37 µs per loop (mean ± std. dev. of 7 runs, 100 loops each)\n"
     ]
    }
   ],
   "source": [
    "%timeit C.std(axis=0)"
   ]
  },
  {
   "cell_type": "code",
   "execution_count": 21,
   "metadata": {
    "collapsed": false
   },
   "outputs": [
    {
     "name": "stdout",
     "output_type": "stream",
     "text": [
      "4.48 ms ± 51 µs per loop (mean ± std. dev. of 7 runs, 100 loops each)\n"
     ]
    }
   ],
   "source": [
    "%timeit C.std(axis=1)"
   ]
  },
  {
   "cell_type": "code",
   "execution_count": 22,
   "metadata": {
    "collapsed": false
   },
   "outputs": [
    {
     "name": "stdout",
     "output_type": "stream",
     "text": [
      "4.5 ms ± 264 µs per loop (mean ± std. dev. of 7 runs, 100 loops each)\n"
     ]
    }
   ],
   "source": [
    "%timeit F.sum(axis=0)"
   ]
  },
  {
   "cell_type": "code",
   "execution_count": 23,
   "metadata": {
    "collapsed": false
   },
   "outputs": [
    {
     "name": "stdout",
     "output_type": "stream",
     "text": [
      "5.3 ms ± 32.8 µs per loop (mean ± std. dev. of 7 runs, 100 loops each)\n"
     ]
    }
   ],
   "source": [
    "%timeit F.sum(axis=1)"
   ]
  },
  {
   "cell_type": "code",
   "execution_count": 24,
   "metadata": {
    "collapsed": false
   },
   "outputs": [
    {
     "name": "stdout",
     "output_type": "stream",
     "text": [
      "19.9 ms ± 611 µs per loop (mean ± std. dev. of 7 runs, 10 loops each)\n"
     ]
    }
   ],
   "source": [
    "%timeit F.std(axis=0)"
   ]
  },
  {
   "cell_type": "code",
   "execution_count": 25,
   "metadata": {
    "collapsed": false
   },
   "outputs": [
    {
     "name": "stdout",
     "output_type": "stream",
     "text": [
      "15.7 ms ± 334 µs per loop (mean ± std. dev. of 7 runs, 100 loops each)\n"
     ]
    }
   ],
   "source": [
    "%timeit F.std(axis=1)"
   ]
  },
  {
   "cell_type": "code",
   "execution_count": 26,
   "metadata": {
    "collapsed": true
   },
   "outputs": [],
   "source": [
    "import multiprocessing as mp"
   ]
  },
  {
   "cell_type": "code",
   "execution_count": 27,
   "metadata": {
    "collapsed": true
   },
   "outputs": [],
   "source": [
    "import math\n",
    "def simulate_geometric_brownian_motion(p):\n",
    "    M, I = p\n",
    "      # time steps, paths\n",
    "    S0 = 100; r = 0.05; sigma = 0.2; T = 1.0\n",
    "      # model parameters\n",
    "    dt = T / M\n",
    "    paths = np.zeros((M + 1, I))\n",
    "    paths[0] = S0\n",
    "    for t in range(1, M + 1):\n",
    "        paths[t] = paths[t - 1] * np.exp((r - 0.5 * sigma ** 2) * dt +\n",
    "                    sigma * math.sqrt(dt) * np.random.standard_normal(I))\n",
    "    return paths"
   ]
  },
  {
   "cell_type": "code",
   "execution_count": 28,
   "metadata": {
    "collapsed": false
   },
   "outputs": [
    {
     "data": {
      "text/plain": [
       "array([[ 100.        ,  100.        ],\n",
       "       [ 100.00062692,   96.8857298 ],\n",
       "       [ 101.54287098,   93.02858348],\n",
       "       [ 106.28428343,  106.92405511],\n",
       "       [ 100.81123445,   91.9035519 ],\n",
       "       [  88.4150375 ,  102.62149544]])"
      ]
     },
     "execution_count": 28,
     "metadata": {},
     "output_type": "execute_result"
    }
   ],
   "source": [
    "paths = simulate_geometric_brownian_motion((5, 2))\n",
    "paths"
   ]
  },
  {
   "cell_type": "code",
   "execution_count": 29,
   "metadata": {
    "collapsed": true
   },
   "outputs": [],
   "source": [
    "I = 10000  # number of paths\n",
    "M = 50  # number of time steps\n",
    "t = 20  # number of tasks/simulations"
   ]
  },
  {
   "cell_type": "code",
   "execution_count": 30,
   "metadata": {
    "collapsed": true
   },
   "outputs": [],
   "source": [
    "from math import cos, log\n",
    "def f_py(I, J):\n",
    "    res = 0\n",
    "    for i in range(I):\n",
    "        for j in range (J):\n",
    "            res += int(cos(log(1)))\n",
    "    return res"
   ]
  },
  {
   "cell_type": "code",
   "execution_count": 31,
   "metadata": {
    "collapsed": false
   },
   "outputs": [
    {
     "name": "stdout",
     "output_type": "stream",
     "text": [
      "Wall time: 5.38 s\n"
     ]
    },
    {
     "data": {
      "text/plain": [
       "6250000"
      ]
     },
     "execution_count": 31,
     "metadata": {},
     "output_type": "execute_result"
    }
   ],
   "source": [
    "I, J = 2500, 2500\n",
    "%time f_py(I, J)"
   ]
  },
  {
   "cell_type": "code",
   "execution_count": 32,
   "metadata": {
    "collapsed": true
   },
   "outputs": [],
   "source": [
    "def f_np(I, J):\n",
    "    a = np.ones((I, J), dtype=np.float64)\n",
    "    return int(np.sum(np.cos(np.log(a)))), a"
   ]
  },
  {
   "cell_type": "code",
   "execution_count": 33,
   "metadata": {
    "collapsed": false
   },
   "outputs": [
    {
     "name": "stdout",
     "output_type": "stream",
     "text": [
      "Wall time: 353 ms\n"
     ]
    }
   ],
   "source": [
    "%time res, a = f_np(I, J)"
   ]
  },
  {
   "cell_type": "code",
   "execution_count": 34,
   "metadata": {
    "collapsed": false
   },
   "outputs": [
    {
     "data": {
      "text/plain": [
       "50000000"
      ]
     },
     "execution_count": 34,
     "metadata": {},
     "output_type": "execute_result"
    }
   ],
   "source": [
    "a.nbytes"
   ]
  },
  {
   "cell_type": "code",
   "execution_count": 36,
   "metadata": {
    "collapsed": false
   },
   "outputs": [],
   "source": [
    "import numba as nb"
   ]
  },
  {
   "cell_type": "code",
   "execution_count": 37,
   "metadata": {
    "collapsed": true
   },
   "outputs": [],
   "source": [
    "f_nb = nb.jit(f_py)"
   ]
  },
  {
   "cell_type": "code",
   "execution_count": 38,
   "metadata": {
    "collapsed": false
   },
   "outputs": [
    {
     "name": "stdout",
     "output_type": "stream",
     "text": [
      "Wall time: 483 ms\n"
     ]
    },
    {
     "data": {
      "text/plain": [
       "6250000"
      ]
     },
     "execution_count": 38,
     "metadata": {},
     "output_type": "execute_result"
    }
   ],
   "source": [
    "%time f_nb(I, J)"
   ]
  },
  {
   "cell_type": "code",
   "execution_count": 39,
   "metadata": {
    "collapsed": true
   },
   "outputs": [],
   "source": [
    "func_list = ['f_py', 'f_np', 'f_nb']\n",
    "data_list = 3 * ['I, J']"
   ]
  },
  {
   "cell_type": "code",
   "execution_count": 40,
   "metadata": {
    "collapsed": false
   },
   "outputs": [
    {
     "name": "stdout",
     "output_type": "stream",
     "text": [
      "function: f_nb, av. time sec:   0.00000, relative:    1.0\n",
      "function: f_np, av. time sec:   0.29764, relative: 190255.2\n",
      "function: f_py, av. time sec:   5.05886, relative: 3233644.0\n"
     ]
    }
   ],
   "source": [
    "perf_comp_data(func_list, data_list)"
   ]
  },
  {
   "cell_type": "code",
   "execution_count": 41,
   "metadata": {
    "collapsed": true
   },
   "outputs": [],
   "source": [
    "# model & option Parameters\n",
    "S0 = 100.  # initial index level\n",
    "T = 1.  # call option maturity\n",
    "r = 0.05  # constant short rate\n",
    "vola = 0.20  # constant volatility factor of diffusion\n",
    "\n",
    "# time parameters\n",
    "M = 1000  # time steps\n",
    "dt = T / M  # length of time interval\n",
    "df = exp(-r * dt)  # discount factor per time interval\n",
    "\n",
    "# binomial parameters\n",
    "u = exp(vola * sqrt(dt))  # up-movement\n",
    "d = 1 / u  # down-movement\n",
    "q = (exp(r * dt) - d) / (u - d)  # martingale probability"
   ]
  },
  {
   "cell_type": "code",
   "execution_count": 42,
   "metadata": {
    "collapsed": true
   },
   "outputs": [],
   "source": [
    "import numpy as np\n",
    "def binomial_py(strike):\n",
    "    ''' Binomial option pricing via looping.\n",
    "    \n",
    "    Parameters\n",
    "    ==========\n",
    "    strike : float\n",
    "        strike price of the European call option\n",
    "    '''\n",
    "    # LOOP 1 - Index Levels\n",
    "    S = np.zeros((M + 1, M + 1), dtype=np.float64)\n",
    "      # index level array\n",
    "    S[0, 0] = S0\n",
    "    z1 = 0\n",
    "    for j in range(1, M + 1, 1):\n",
    "        z1 = z1 + 1\n",
    "        for i in range(z1 + 1):\n",
    "            S[i, j] = S[0, 0] * (u ** j) * (d ** (i * 2))\n",
    "            \n",
    "    # LOOP 2 - Inner Values\n",
    "    iv = np.zeros((M + 1, M + 1), dtype=np.float64)\n",
    "      # inner value array\n",
    "    z2 = 0\n",
    "    for j in range(0, M + 1, 1):\n",
    "        for i in range(z2 + 1):\n",
    "            iv[i, j] = max(S[i, j] - strike, 0)\n",
    "        z2 = z2 + 1\n",
    "        \n",
    "    # LOOP 3 - Valuation\n",
    "    pv = np.zeros((M + 1, M + 1), dtype=np.float64)\n",
    "      # present value array\n",
    "    pv[:, M] = iv[:, M]  # initialize last time point\n",
    "    z3 = M + 1\n",
    "    for j in range(M - 1, -1, -1):\n",
    "        z3 = z3 - 1\n",
    "        for i in range(z3):\n",
    "            pv[i, j] = (q * pv[i, j + 1] +\n",
    "                        (1 - q) * pv[i + 1, j + 1]) * df\n",
    "    return pv[0, 0]"
   ]
  },
  {
   "cell_type": "code",
   "execution_count": 43,
   "metadata": {
    "collapsed": false
   },
   "outputs": [
    {
     "name": "stdout",
     "output_type": "stream",
     "text": [
      "Wall time: 2.92 s\n"
     ]
    },
    {
     "data": {
      "text/plain": [
       "10.449"
      ]
     },
     "execution_count": 43,
     "metadata": {},
     "output_type": "execute_result"
    }
   ],
   "source": [
    "%time round(binomial_py(100), 3)"
   ]
  },
  {
   "cell_type": "code",
   "execution_count": 44,
   "metadata": {
    "collapsed": true
   },
   "outputs": [],
   "source": [
    "def binomial_np(strike):\n",
    "    ''' Binomial option pricing with NumPy.\n",
    "    \n",
    "    Parameters\n",
    "    ==========\n",
    "    strike : float\n",
    "        strike price of the European call option\n",
    "    '''\n",
    "    # Index Levels with NumPy\n",
    "    mu = np.arange(M + 1)\n",
    "    mu = np.resize(mu, (M + 1, M + 1))\n",
    "    md = np.transpose(mu)\n",
    "    mu = u ** (mu - md)\n",
    "    md = d ** md\n",
    "    S = S0 * mu * md\n",
    "    \n",
    "    # Valuation Loop\n",
    "    pv = np.maximum(S - strike, 0)\n",
    "\n",
    "    z = 0\n",
    "    for t in range(M - 1, -1, -1):  # backwards iteration\n",
    "        pv[0:M - z, t] = (q * pv[0:M - z, t + 1]\n",
    "                        + (1 - q) * pv[1:M - z + 1, t + 1]) * df\n",
    "        z += 1\n",
    "    return pv[0, 0]"
   ]
  },
  {
   "cell_type": "code",
   "execution_count": 45,
   "metadata": {
    "collapsed": false
   },
   "outputs": [
    {
     "data": {
      "text/plain": [
       "array([0, 1, 2, 3, 4])"
      ]
     },
     "execution_count": 45,
     "metadata": {},
     "output_type": "execute_result"
    }
   ],
   "source": [
    "M = 4  # four time steps only\n",
    "mu = np.arange(M + 1)\n",
    "mu"
   ]
  },
  {
   "cell_type": "code",
   "execution_count": 46,
   "metadata": {
    "collapsed": false
   },
   "outputs": [
    {
     "data": {
      "text/plain": [
       "array([[0, 1, 2, 3, 4],\n",
       "       [0, 1, 2, 3, 4],\n",
       "       [0, 1, 2, 3, 4],\n",
       "       [0, 1, 2, 3, 4],\n",
       "       [0, 1, 2, 3, 4]])"
      ]
     },
     "execution_count": 46,
     "metadata": {},
     "output_type": "execute_result"
    }
   ],
   "source": [
    "mu = np.resize(mu, (M + 1, M + 1))\n",
    "mu"
   ]
  },
  {
   "cell_type": "code",
   "execution_count": 47,
   "metadata": {
    "collapsed": false
   },
   "outputs": [
    {
     "data": {
      "text/plain": [
       "array([[0, 0, 0, 0, 0],\n",
       "       [1, 1, 1, 1, 1],\n",
       "       [2, 2, 2, 2, 2],\n",
       "       [3, 3, 3, 3, 3],\n",
       "       [4, 4, 4, 4, 4]])"
      ]
     },
     "execution_count": 47,
     "metadata": {},
     "output_type": "execute_result"
    }
   ],
   "source": [
    "md = np.transpose(mu)\n",
    "md"
   ]
  },
  {
   "cell_type": "code",
   "execution_count": 48,
   "metadata": {
    "collapsed": false
   },
   "outputs": [
    {
     "data": {
      "text/plain": [
       "array([[ 1.   ,  1.006,  1.013,  1.019,  1.026],\n",
       "       [ 0.994,  1.   ,  1.006,  1.013,  1.019],\n",
       "       [ 0.987,  0.994,  1.   ,  1.006,  1.013],\n",
       "       [ 0.981,  0.987,  0.994,  1.   ,  1.006],\n",
       "       [ 0.975,  0.981,  0.987,  0.994,  1.   ]])"
      ]
     },
     "execution_count": 48,
     "metadata": {},
     "output_type": "execute_result"
    }
   ],
   "source": [
    "mu = u ** (mu - md)\n",
    "mu.round(3)"
   ]
  },
  {
   "cell_type": "code",
   "execution_count": 49,
   "metadata": {
    "collapsed": false
   },
   "outputs": [
    {
     "data": {
      "text/plain": [
       "array([[ 1.   ,  1.   ,  1.   ,  1.   ,  1.   ],\n",
       "       [ 0.994,  0.994,  0.994,  0.994,  0.994],\n",
       "       [ 0.987,  0.987,  0.987,  0.987,  0.987],\n",
       "       [ 0.981,  0.981,  0.981,  0.981,  0.981],\n",
       "       [ 0.975,  0.975,  0.975,  0.975,  0.975]])"
      ]
     },
     "execution_count": 49,
     "metadata": {},
     "output_type": "execute_result"
    }
   ],
   "source": [
    "md = d ** md\n",
    "md.round(3)"
   ]
  },
  {
   "cell_type": "code",
   "execution_count": 50,
   "metadata": {
    "collapsed": false
   },
   "outputs": [
    {
     "data": {
      "text/plain": [
       "array([[ 100.   ,  100.634,  101.273,  101.915,  102.562],\n",
       "       [  98.743,   99.37 ,  100.   ,  100.634,  101.273],\n",
       "       [  97.502,   98.121,   98.743,   99.37 ,  100.   ],\n",
       "       [  96.276,   96.887,   97.502,   98.121,   98.743],\n",
       "       [  95.066,   95.669,   96.276,   96.887,   97.502]])"
      ]
     },
     "execution_count": 50,
     "metadata": {},
     "output_type": "execute_result"
    }
   ],
   "source": [
    "S = S0 * mu * md\n",
    "S.round(3)"
   ]
  },
  {
   "cell_type": "code",
   "execution_count": 51,
   "metadata": {
    "collapsed": false
   },
   "outputs": [
    {
     "name": "stdout",
     "output_type": "stream",
     "text": [
      "Wall time: 234 ms\n"
     ]
    },
    {
     "data": {
      "text/plain": [
       "10.449"
      ]
     },
     "execution_count": 51,
     "metadata": {},
     "output_type": "execute_result"
    }
   ],
   "source": [
    "M = 1000  # reset number of time steps\n",
    "%time round(binomial_np(100), 3)"
   ]
  },
  {
   "cell_type": "code",
   "execution_count": 52,
   "metadata": {
    "collapsed": true
   },
   "outputs": [],
   "source": [
    "binomial_nb = nb.jit(binomial_py)"
   ]
  },
  {
   "cell_type": "code",
   "execution_count": 53,
   "metadata": {
    "collapsed": false
   },
   "outputs": [
    {
     "name": "stdout",
     "output_type": "stream",
     "text": [
      "Wall time: 849 ms\n"
     ]
    },
    {
     "data": {
      "text/plain": [
       "10.449"
      ]
     },
     "execution_count": 53,
     "metadata": {},
     "output_type": "execute_result"
    }
   ],
   "source": [
    "%time round(binomial_nb(100), 3)"
   ]
  },
  {
   "cell_type": "code",
   "execution_count": 54,
   "metadata": {
    "collapsed": true
   },
   "outputs": [],
   "source": [
    "func_list = ['binomial_py', 'binomial_np', 'binomial_nb']\n",
    "K = 100.\n",
    "data_list = 3 * ['K']"
   ]
  },
  {
   "cell_type": "code",
   "execution_count": 55,
   "metadata": {
    "collapsed": false
   },
   "outputs": [
    {
     "name": "stdout",
     "output_type": "stream",
     "text": [
      "function: binomial_np, av. time sec:   0.18935, relative:    1.0\n",
      "function: binomial_nb, av. time sec:   0.23121, relative:    1.2\n",
      "function: binomial_py, av. time sec:   2.87990, relative:   15.2\n"
     ]
    }
   ],
   "source": [
    "perf_comp_data(func_list, data_list)"
   ]
  },
  {
   "cell_type": "code",
   "execution_count": 56,
   "metadata": {
    "collapsed": true
   },
   "outputs": [],
   "source": [
    "def f_py(I, J):\n",
    "    res = 0.  # we work on a float object\n",
    "    for i in range(I):\n",
    "        for j in range (J * I):\n",
    "            res += 1\n",
    "    return res"
   ]
  },
  {
   "cell_type": "code",
   "execution_count": 57,
   "metadata": {
    "collapsed": false
   },
   "outputs": [
    {
     "name": "stdout",
     "output_type": "stream",
     "text": [
      "Wall time: 27.6 s\n"
     ]
    },
    {
     "data": {
      "text/plain": [
       "125000000.0"
      ]
     },
     "execution_count": 57,
     "metadata": {},
     "output_type": "execute_result"
    }
   ],
   "source": [
    "I, J = 500, 500\n",
    "%time f_py(I, J)"
   ]
  },
  {
   "cell_type": "code",
   "execution_count": 58,
   "metadata": {
    "collapsed": false
   },
   "outputs": [
    {
     "data": {
      "text/plain": [
       "(None, <pyximport.pyximport.PyxImporter at 0xf2b9890>)"
      ]
     },
     "execution_count": 58,
     "metadata": {},
     "output_type": "execute_result"
    }
   ],
   "source": [
    "import pyximport\n",
    "pyximport.install()"
   ]
  },
  {
   "cell_type": "code",
   "execution_count": 61,
   "metadata": {
    "collapsed": true
   },
   "outputs": [],
   "source": [
    "import sys\n",
    "sys.path.append('.')"
   ]
  },
  {
   "cell_type": "code",
   "execution_count": 63,
   "metadata": {
    "collapsed": false
   },
   "outputs": [],
   "source": [
    "%load_ext Cython"
   ]
  },
  {
   "cell_type": "code",
   "execution_count": null,
   "metadata": {
    "collapsed": true
   },
   "outputs": [],
   "source": []
  }
 ],
 "metadata": {
  "kernelspec": {
   "display_name": "Python 3",
   "language": "python",
   "name": "python3"
  },
  "language_info": {
   "codemirror_mode": {
    "name": "ipython",
    "version": 3
   },
   "file_extension": ".py",
   "mimetype": "text/x-python",
   "name": "python",
   "nbconvert_exporter": "python",
   "pygments_lexer": "ipython3",
   "version": "3.4.2"
  }
 },
 "nbformat": 4,
 "nbformat_minor": 1
}
