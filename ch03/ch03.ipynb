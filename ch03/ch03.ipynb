{
 "cells": [
  {
   "cell_type": "code",
   "execution_count": 1,
   "metadata": {
    "collapsed": true
   },
   "outputs": [],
   "source": [
    "from pylab import plt\n",
    "plt.style.use('seaborn')\n",
    "import matplotlib as mpl\n",
    "mpl.rcParams['font.family'] = 'serif'\n",
    "import warnings; warnings.simplefilter('ignore')"
   ]
  },
  {
   "cell_type": "code",
   "execution_count": 2,
   "metadata": {
    "collapsed": true
   },
   "outputs": [],
   "source": [
    "V0 = 17.6639"
   ]
  },
  {
   "cell_type": "code",
   "execution_count": 3,
   "metadata": {
    "collapsed": true
   },
   "outputs": [],
   "source": [
    "r = 0.01"
   ]
  },
  {
   "cell_type": "code",
   "execution_count": 4,
   "metadata": {
    "collapsed": false
   },
   "outputs": [],
   "source": [
    "import pandas as pd\n",
    "h5 = pd.HDFStore('./vstoxx_data_31032014.h5', 'r')\n",
    "futures_data = h5['futures_data']  # VSTOXX futures data\n",
    "options_data = h5['options_data']  # VSTOXX call option data\n",
    "h5.close()"
   ]
  },
  {
   "cell_type": "code",
   "execution_count": 5,
   "metadata": {
    "collapsed": false
   },
   "outputs": [],
   "source": [
    "import datetime as dt"
   ]
  },
  {
   "cell_type": "code",
   "execution_count": 6,
   "metadata": {
    "collapsed": true
   },
   "outputs": [],
   "source": [
    "futures_data['DATE'] = futures_data['DATE'].apply(lambda x: dt.datetime.fromtimestamp(x / 1e9))"
   ]
  },
  {
   "cell_type": "code",
   "execution_count": 7,
   "metadata": {
    "collapsed": true
   },
   "outputs": [],
   "source": [
    "futures_data['MATURITY'] = futures_data['MATURITY'].apply(lambda x: dt.datetime.fromtimestamp(x / 1e9))"
   ]
  },
  {
   "cell_type": "code",
   "execution_count": 8,
   "metadata": {
    "collapsed": false
   },
   "outputs": [
    {
     "data": {
      "text/html": [
       "<div>\n",
       "<style>\n",
       "    .dataframe thead tr:only-child th {\n",
       "        text-align: right;\n",
       "    }\n",
       "\n",
       "    .dataframe thead th {\n",
       "        text-align: left;\n",
       "    }\n",
       "\n",
       "    .dataframe tbody tr th {\n",
       "        vertical-align: top;\n",
       "    }\n",
       "</style>\n",
       "<table border=\"1\" class=\"dataframe\">\n",
       "  <thead>\n",
       "    <tr style=\"text-align: right;\">\n",
       "      <th></th>\n",
       "      <th>DATE</th>\n",
       "      <th>EXP_YEAR</th>\n",
       "      <th>EXP_MONTH</th>\n",
       "      <th>PRICE</th>\n",
       "      <th>MATURITY</th>\n",
       "      <th>TTM</th>\n",
       "    </tr>\n",
       "  </thead>\n",
       "  <tbody>\n",
       "    <tr>\n",
       "      <th>496</th>\n",
       "      <td>2014-03-31 08:00:00</td>\n",
       "      <td>2014</td>\n",
       "      <td>4</td>\n",
       "      <td>17.85</td>\n",
       "      <td>2014-04-18 08:00:00</td>\n",
       "      <td>0.049</td>\n",
       "    </tr>\n",
       "    <tr>\n",
       "      <th>497</th>\n",
       "      <td>2014-03-31 08:00:00</td>\n",
       "      <td>2014</td>\n",
       "      <td>5</td>\n",
       "      <td>19.55</td>\n",
       "      <td>2014-05-16 08:00:00</td>\n",
       "      <td>0.126</td>\n",
       "    </tr>\n",
       "    <tr>\n",
       "      <th>498</th>\n",
       "      <td>2014-03-31 08:00:00</td>\n",
       "      <td>2014</td>\n",
       "      <td>6</td>\n",
       "      <td>19.95</td>\n",
       "      <td>2014-06-20 08:00:00</td>\n",
       "      <td>0.222</td>\n",
       "    </tr>\n",
       "    <tr>\n",
       "      <th>499</th>\n",
       "      <td>2014-03-31 08:00:00</td>\n",
       "      <td>2014</td>\n",
       "      <td>7</td>\n",
       "      <td>20.40</td>\n",
       "      <td>2014-07-18 08:00:00</td>\n",
       "      <td>0.299</td>\n",
       "    </tr>\n",
       "    <tr>\n",
       "      <th>500</th>\n",
       "      <td>2014-03-31 08:00:00</td>\n",
       "      <td>2014</td>\n",
       "      <td>8</td>\n",
       "      <td>20.70</td>\n",
       "      <td>2014-08-15 08:00:00</td>\n",
       "      <td>0.375</td>\n",
       "    </tr>\n",
       "    <tr>\n",
       "      <th>501</th>\n",
       "      <td>2014-03-31 08:00:00</td>\n",
       "      <td>2014</td>\n",
       "      <td>9</td>\n",
       "      <td>20.95</td>\n",
       "      <td>2014-09-19 08:00:00</td>\n",
       "      <td>0.471</td>\n",
       "    </tr>\n",
       "    <tr>\n",
       "      <th>502</th>\n",
       "      <td>2014-03-31 08:00:00</td>\n",
       "      <td>2014</td>\n",
       "      <td>10</td>\n",
       "      <td>21.05</td>\n",
       "      <td>2014-10-17 08:00:00</td>\n",
       "      <td>0.548</td>\n",
       "    </tr>\n",
       "    <tr>\n",
       "      <th>503</th>\n",
       "      <td>2014-03-31 08:00:00</td>\n",
       "      <td>2014</td>\n",
       "      <td>11</td>\n",
       "      <td>21.25</td>\n",
       "      <td>2014-11-21 08:00:00</td>\n",
       "      <td>0.644</td>\n",
       "    </tr>\n",
       "  </tbody>\n",
       "</table>\n",
       "</div>"
      ],
      "text/plain": [
       "                   DATE  EXP_YEAR  EXP_MONTH  PRICE            MATURITY    TTM\n",
       "496 2014-03-31 08:00:00      2014          4  17.85 2014-04-18 08:00:00  0.049\n",
       "497 2014-03-31 08:00:00      2014          5  19.55 2014-05-16 08:00:00  0.126\n",
       "498 2014-03-31 08:00:00      2014          6  19.95 2014-06-20 08:00:00  0.222\n",
       "499 2014-03-31 08:00:00      2014          7  20.40 2014-07-18 08:00:00  0.299\n",
       "500 2014-03-31 08:00:00      2014          8  20.70 2014-08-15 08:00:00  0.375\n",
       "501 2014-03-31 08:00:00      2014          9  20.95 2014-09-19 08:00:00  0.471\n",
       "502 2014-03-31 08:00:00      2014         10  21.05 2014-10-17 08:00:00  0.548\n",
       "503 2014-03-31 08:00:00      2014         11  21.25 2014-11-21 08:00:00  0.644"
      ]
     },
     "execution_count": 8,
     "metadata": {},
     "output_type": "execute_result"
    }
   ],
   "source": [
    "futures_data"
   ]
  },
  {
   "cell_type": "code",
   "execution_count": 9,
   "metadata": {
    "collapsed": true
   },
   "outputs": [],
   "source": [
    "options_data['DATE'] = options_data['DATE'].apply(lambda x: dt.datetime.fromtimestamp(x / 1e9))"
   ]
  },
  {
   "cell_type": "code",
   "execution_count": 10,
   "metadata": {
    "collapsed": true
   },
   "outputs": [],
   "source": [
    "options_data['MATURITY'] = options_data['MATURITY'].apply(lambda x: dt.datetime.fromtimestamp(x / 1e9))"
   ]
  },
  {
   "cell_type": "code",
   "execution_count": 11,
   "metadata": {
    "collapsed": true
   },
   "outputs": [],
   "source": [
    "options_data['IMP_VOL'] = 0.0"
   ]
  },
  {
   "cell_type": "code",
   "execution_count": 12,
   "metadata": {
    "collapsed": false
   },
   "outputs": [],
   "source": [
    "from bsm_functions import *"
   ]
  },
  {
   "cell_type": "code",
   "execution_count": 13,
   "metadata": {
    "collapsed": true
   },
   "outputs": [],
   "source": [
    "tol = 0.5  # tolerance level for moneyness\n",
    "for option in options_data.index:\n",
    "    # iterating over all option quotes\n",
    "    forward = futures_data[futures_data['MATURITY'] == \\\n",
    "                options_data.loc[option]['MATURITY']]['PRICE'].values[0]\n",
    "      # picking the right futures value\n",
    "    if (forward * (1 - tol) < options_data.loc[option]['STRIKE']\n",
    "                             < forward * (1 + tol)):\n",
    "        # only for options with moneyness within tolerance\n",
    "        imp_vol = bsm_call_imp_vol(\n",
    "                V0,  # VSTOXX value \n",
    "                options_data.loc[option]['STRIKE'],\n",
    "                options_data.loc[option]['TTM'],\n",
    "                r,   # short rate\n",
    "                options_data.loc[option]['PRICE'],\n",
    "                sigma_est=2.,  # estimate for implied volatility\n",
    "                it=100)\n",
    "        options_data.ix[option, 'IMP_VOL'] = imp_vol"
   ]
  },
  {
   "cell_type": "code",
   "execution_count": 14,
   "metadata": {
    "collapsed": true
   },
   "outputs": [],
   "source": [
    "plot_data = options_data[options_data['IMP_VOL'] > 0]"
   ]
  },
  {
   "cell_type": "code",
   "execution_count": 15,
   "metadata": {
    "collapsed": false
   },
   "outputs": [
    {
     "data": {
      "text/plain": [
       "[Timestamp('2014-04-18 08:00:00'),\n",
       " Timestamp('2014-05-16 08:00:00'),\n",
       " Timestamp('2014-06-20 08:00:00'),\n",
       " Timestamp('2014-07-18 08:00:00'),\n",
       " Timestamp('2014-08-15 08:00:00'),\n",
       " Timestamp('2014-09-19 08:00:00'),\n",
       " Timestamp('2014-10-17 08:00:00'),\n",
       " Timestamp('2014-11-21 08:00:00')]"
      ]
     },
     "execution_count": 15,
     "metadata": {},
     "output_type": "execute_result"
    }
   ],
   "source": [
    "maturities = sorted(set(options_data['MATURITY']))\n",
    "maturities"
   ]
  },
  {
   "cell_type": "code",
   "execution_count": 16,
   "metadata": {
    "collapsed": false
   },
   "outputs": [
    {
     "data": {
      "image/png": "[encoded data removed]",
      "text/plain": [
       "<matplotlib.figure.Figure at 0xb0fdf70>"
      ]
     },
     "metadata": {},
     "output_type": "display_data"
    }
   ],
   "source": [
    "import matplotlib.pyplot as plt\n",
    "%matplotlib inline\n",
    "plt.figure(figsize=(8, 6))\n",
    "for maturity in maturities:\n",
    "    data = plot_data[options_data.MATURITY == maturity]\n",
    "      # select data for this maturity\n",
    "    plt.plot(data['STRIKE'], data['IMP_VOL'],\n",
    "             label=maturity.date(), lw=1.5)\n",
    "    plt.plot(data['STRIKE'], data['IMP_VOL'], 'r.', label='')\n",
    "plt.grid(True) \n",
    "plt.xlabel('strike')\n",
    "plt.ylabel('implied volatility of volatility')\n",
    "plt.legend()\n",
    "plt.show()"
   ]
  },
  {
   "cell_type": "code",
   "execution_count": 17,
   "metadata": {
    "collapsed": false
   },
   "outputs": [
    {
     "data": {
      "text/plain": [
       "<pandas.core.groupby.DataFrameGroupBy object at 0x09B7B490>"
      ]
     },
     "execution_count": 17,
     "metadata": {},
     "output_type": "execute_result"
    }
   ],
   "source": [
    "keep = ['PRICE', 'IMP_VOL']\n",
    "group_data = plot_data.groupby(['MATURITY', 'STRIKE'])[keep]\n",
    "group_data"
   ]
  },
  {
   "cell_type": "code",
   "execution_count": 18,
   "metadata": {
    "collapsed": false
   },
   "outputs": [
    {
     "data": {
      "text/html": [
       "<div>\n",
       "<style>\n",
       "    .dataframe thead tr:only-child th {\n",
       "        text-align: right;\n",
       "    }\n",
       "\n",
       "    .dataframe thead th {\n",
       "        text-align: left;\n",
       "    }\n",
       "\n",
       "    .dataframe tbody tr th {\n",
       "        vertical-align: top;\n",
       "    }\n",
       "</style>\n",
       "<table border=\"1\" class=\"dataframe\">\n",
       "  <thead>\n",
       "    <tr style=\"text-align: right;\">\n",
       "      <th></th>\n",
       "      <th></th>\n",
       "      <th>PRICE</th>\n",
       "      <th>IMP_VOL</th>\n",
       "    </tr>\n",
       "    <tr>\n",
       "      <th>MATURITY</th>\n",
       "      <th>STRIKE</th>\n",
       "      <th></th>\n",
       "      <th></th>\n",
       "    </tr>\n",
       "  </thead>\n",
       "  <tbody>\n",
       "    <tr>\n",
       "      <th rowspan=\"5\" valign=\"top\">2014-04-18 08:00:00</th>\n",
       "      <th>9.0</th>\n",
       "      <td>8.85</td>\n",
       "      <td>2.083388</td>\n",
       "    </tr>\n",
       "    <tr>\n",
       "      <th>10.0</th>\n",
       "      <td>7.85</td>\n",
       "      <td>1.804193</td>\n",
       "    </tr>\n",
       "    <tr>\n",
       "      <th>11.0</th>\n",
       "      <td>6.85</td>\n",
       "      <td>1.550283</td>\n",
       "    </tr>\n",
       "    <tr>\n",
       "      <th>12.0</th>\n",
       "      <td>5.85</td>\n",
       "      <td>1.316103</td>\n",
       "    </tr>\n",
       "    <tr>\n",
       "      <th>13.0</th>\n",
       "      <td>4.85</td>\n",
       "      <td>1.097184</td>\n",
       "    </tr>\n",
       "  </tbody>\n",
       "</table>\n",
       "</div>"
      ],
      "text/plain": [
       "                            PRICE   IMP_VOL\n",
       "MATURITY            STRIKE                 \n",
       "2014-04-18 08:00:00 9.0      8.85  2.083388\n",
       "                    10.0     7.85  1.804193\n",
       "                    11.0     6.85  1.550283\n",
       "                    12.0     5.85  1.316103\n",
       "                    13.0     4.85  1.097184"
      ]
     },
     "execution_count": 18,
     "metadata": {},
     "output_type": "execute_result"
    }
   ],
   "source": [
    "group_data = group_data.sum()\n",
    "group_data.head()"
   ]
  },
  {
   "cell_type": "code",
   "execution_count": 19,
   "metadata": {
    "collapsed": false
   },
   "outputs": [
    {
     "data": {
      "text/plain": [
       "FrozenList([[2014-04-18 08:00:00, 2014-05-16 08:00:00, 2014-06-20 08:00:00, 2014-07-18 08:00:00, 2014-08-15 08:00:00, 2014-09-19 08:00:00, 2014-10-17 08:00:00, 2014-11-21 08:00:00], [9.0, 10.0, 11.0, 12.0, 13.0, 14.0, 15.0, 16.0, 17.0, 18.0, 19.0, 20.0, 21.0, 22.0, 23.0, 24.0, 25.0, 26.0, 27.0, 28.0, 29.0, 30.0]])"
      ]
     },
     "execution_count": 19,
     "metadata": {},
     "output_type": "execute_result"
    }
   ],
   "source": [
    "group_data.index.levels"
   ]
  },
  {
   "cell_type": "code",
   "execution_count": 20,
   "metadata": {
    "collapsed": false
   },
   "outputs": [
    {
     "data": {
      "text/plain": [
       "8.0213522351431763"
      ]
     },
     "execution_count": 20,
     "metadata": {},
     "output_type": "execute_result"
    }
   ],
   "source": [
    "from bsm_functions import bsm_call_value\n",
    "S0 = 100.\n",
    "K = 105.\n",
    "T = 1.0\n",
    "r = 0.05\n",
    "sigma = 0.2\n",
    "bsm_call_value(S0, K, T, r, sigma)"
   ]
  },
  {
   "cell_type": "code",
   "execution_count": 21,
   "metadata": {
    "collapsed": false
   },
   "outputs": [
    {
     "ename": "NameError",
     "evalue": "name 'S' is not defined",
     "output_type": "error",
     "traceback": [
      "\u001b[1;31m---------------------------------------------------------------------------\u001b[0m",
      "\u001b[1;31mNameError\u001b[0m                                 Traceback (most recent call last)",
      "\u001b[1;32m<ipython-input-21-0f4fa6b7c59f>\u001b[0m in \u001b[0;36m<module>\u001b[1;34m()\u001b[0m\n\u001b[0;32m      1\u001b[0m \u001b[1;32mimport\u001b[0m \u001b[0mmatplotlib\u001b[0m\u001b[1;33m.\u001b[0m\u001b[0mpyplot\u001b[0m \u001b[1;32mas\u001b[0m \u001b[0mplt\u001b[0m\u001b[1;33m\u001b[0m\u001b[0m\n\u001b[1;32m----> 2\u001b[1;33m \u001b[0mplt\u001b[0m\u001b[1;33m.\u001b[0m\u001b[0mplot\u001b[0m\u001b[1;33m(\u001b[0m\u001b[0mS\u001b[0m\u001b[1;33m[\u001b[0m\u001b[1;33m:\u001b[0m\u001b[1;33m,\u001b[0m \u001b[1;33m:\u001b[0m\u001b[1;36m10\u001b[0m\u001b[1;33m]\u001b[0m\u001b[1;33m)\u001b[0m\u001b[1;33m\u001b[0m\u001b[0m\n\u001b[0m\u001b[0;32m      3\u001b[0m \u001b[0mplt\u001b[0m\u001b[1;33m.\u001b[0m\u001b[0mgrid\u001b[0m\u001b[1;33m(\u001b[0m\u001b[1;32mTrue\u001b[0m\u001b[1;33m)\u001b[0m\u001b[1;33m\u001b[0m\u001b[0m\n\u001b[0;32m      4\u001b[0m \u001b[0mplt\u001b[0m\u001b[1;33m.\u001b[0m\u001b[0mxlabel\u001b[0m\u001b[1;33m(\u001b[0m\u001b[1;34m'time step'\u001b[0m\u001b[1;33m)\u001b[0m\u001b[1;33m\u001b[0m\u001b[0m\n\u001b[0;32m      5\u001b[0m \u001b[0mplt\u001b[0m\u001b[1;33m.\u001b[0m\u001b[0mylabel\u001b[0m\u001b[1;33m(\u001b[0m\u001b[1;34m'index level'\u001b[0m\u001b[1;33m)\u001b[0m\u001b[1;33m\u001b[0m\u001b[0m\n",
      "\u001b[1;31mNameError\u001b[0m: name 'S' is not defined"
     ]
    }
   ],
   "source": [
    "import matplotlib.pyplot as plt\n",
    "plt.plot(S[:, :10])\n",
    "plt.grid(True)\n",
    "plt.xlabel('time step')\n",
    "plt.ylabel('index level')"
   ]
  },
  {
   "cell_type": "code",
   "execution_count": 22,
   "metadata": {
    "collapsed": false
   },
   "outputs": [
    {
     "ename": "NameError",
     "evalue": "name 'S' is not defined",
     "output_type": "error",
     "traceback": [
      "\u001b[1;31m---------------------------------------------------------------------------\u001b[0m",
      "\u001b[1;31mNameError\u001b[0m                                 Traceback (most recent call last)",
      "\u001b[1;32m<ipython-input-22-69577e4bd087>\u001b[0m in \u001b[0;36m<module>\u001b[1;34m()\u001b[0m\n\u001b[1;32m----> 1\u001b[1;33m \u001b[0mplt\u001b[0m\u001b[1;33m.\u001b[0m\u001b[0mhist\u001b[0m\u001b[1;33m(\u001b[0m\u001b[0mS\u001b[0m\u001b[1;33m[\u001b[0m\u001b[1;33m-\u001b[0m\u001b[1;36m1\u001b[0m\u001b[1;33m]\u001b[0m\u001b[1;33m,\u001b[0m \u001b[0mbins\u001b[0m\u001b[1;33m=\u001b[0m\u001b[1;36m50\u001b[0m\u001b[1;33m)\u001b[0m\u001b[1;33m\u001b[0m\u001b[0m\n\u001b[0m\u001b[0;32m      2\u001b[0m \u001b[0mplt\u001b[0m\u001b[1;33m.\u001b[0m\u001b[0mgrid\u001b[0m\u001b[1;33m(\u001b[0m\u001b[1;32mTrue\u001b[0m\u001b[1;33m)\u001b[0m\u001b[1;33m\u001b[0m\u001b[0m\n\u001b[0;32m      3\u001b[0m \u001b[0mplt\u001b[0m\u001b[1;33m.\u001b[0m\u001b[0mxlabel\u001b[0m\u001b[1;33m(\u001b[0m\u001b[1;34m'index level'\u001b[0m\u001b[1;33m)\u001b[0m\u001b[1;33m\u001b[0m\u001b[0m\n\u001b[0;32m      4\u001b[0m \u001b[0mplt\u001b[0m\u001b[1;33m.\u001b[0m\u001b[0mylabel\u001b[0m\u001b[1;33m(\u001b[0m\u001b[1;34m'frequency'\u001b[0m\u001b[1;33m)\u001b[0m\u001b[1;33m\u001b[0m\u001b[0m\n",
      "\u001b[1;31mNameError\u001b[0m: name 'S' is not defined"
     ]
    }
   ],
   "source": [
    "plt.hist(S[-1], bins=50)\n",
    "plt.grid(True)\n",
    "plt.xlabel('index level')\n",
    "plt.ylabel('frequency')"
   ]
  },
  {
   "cell_type": "code",
   "execution_count": 24,
   "metadata": {
    "collapsed": true
   },
   "outputs": [],
   "source": [
    "import numpy as np\n",
    "import pandas as pd"
   ]
  },
  {
   "cell_type": "code",
   "execution_count": 27,
   "metadata": {
    "collapsed": false,
    "scrolled": true
   },
   "outputs": [
    {
     "name": "stdout",
     "output_type": "stream",
     "text": [
      "<class 'pandas.core.frame.DataFrame'>\n",
      "DatetimeIndex: 1972 entries, 2010-01-04 to 2017-10-31\n",
      "Data columns (total 1 columns):\n",
      "Close    1972 non-null float64\n",
      "dtypes: float64(1)\n",
      "memory usage: 30.8 KB\n"
     ]
    }
   ],
   "source": [
    "raw = pd.read_csv('tr_eikon_eod_data.csv',\n",
    "                   index_col=0, parse_dates=True)\n",
    "AAPL = pd.DataFrame(raw['AAPL.O'])\n",
    "AAPL.columns = ['Close']\n",
    "AAPL.info()"
   ]
  },
  {
   "cell_type": "code",
   "execution_count": 28,
   "metadata": {
    "collapsed": false
   },
   "outputs": [
    {
     "data": {
      "text/plain": [
       "<matplotlib.axes._subplots.AxesSubplot at 0xcf4dab0>"
      ]
     },
     "execution_count": 28,
     "metadata": {},
     "output_type": "execute_result"
    },
    {
     "data": {
      "image/png": "[encoded data removed]",
      "text/plain": [
       "<matplotlib.figure.Figure at 0xcf9a590>"
      ]
     },
     "metadata": {},
     "output_type": "display_data"
    }
   ],
   "source": [
    "AAPL['Close'].plot(grid=True, figsize=(8, 5))\n"
   ]
  },
  {
   "cell_type": "code",
   "execution_count": 35,
   "metadata": {
    "collapsed": false
   },
   "outputs": [
    {
     "data": {
      "text/html": [
       "<div>\n",
       "<style>\n",
       "    .dataframe thead tr:only-child th {\n",
       "        text-align: right;\n",
       "    }\n",
       "\n",
       "    .dataframe thead th {\n",
       "        text-align: left;\n",
       "    }\n",
       "\n",
       "    .dataframe tbody tr th {\n",
       "        vertical-align: top;\n",
       "    }\n",
       "</style>\n",
       "<table border=\"1\" class=\"dataframe\">\n",
       "  <thead>\n",
       "    <tr style=\"text-align: right;\">\n",
       "      <th></th>\n",
       "      <th>Close</th>\n",
       "      <th>42d</th>\n",
       "      <th>252d</th>\n",
       "      <th>42-252</th>\n",
       "    </tr>\n",
       "    <tr>\n",
       "      <th>Date</th>\n",
       "      <th></th>\n",
       "      <th></th>\n",
       "      <th></th>\n",
       "      <th></th>\n",
       "    </tr>\n",
       "  </thead>\n",
       "  <tbody>\n",
       "    <tr>\n",
       "      <th>2010-01-04</th>\n",
       "      <td>30.572827</td>\n",
       "      <td>NaN</td>\n",
       "      <td>NaN</td>\n",
       "      <td>NaN</td>\n",
       "    </tr>\n",
       "    <tr>\n",
       "      <th>2010-01-05</th>\n",
       "      <td>30.625684</td>\n",
       "      <td>NaN</td>\n",
       "      <td>NaN</td>\n",
       "      <td>NaN</td>\n",
       "    </tr>\n",
       "    <tr>\n",
       "      <th>2010-01-06</th>\n",
       "      <td>30.138541</td>\n",
       "      <td>NaN</td>\n",
       "      <td>NaN</td>\n",
       "      <td>NaN</td>\n",
       "    </tr>\n",
       "    <tr>\n",
       "      <th>2010-01-07</th>\n",
       "      <td>30.082827</td>\n",
       "      <td>NaN</td>\n",
       "      <td>NaN</td>\n",
       "      <td>NaN</td>\n",
       "    </tr>\n",
       "    <tr>\n",
       "      <th>2010-01-08</th>\n",
       "      <td>30.282827</td>\n",
       "      <td>NaN</td>\n",
       "      <td>NaN</td>\n",
       "      <td>NaN</td>\n",
       "    </tr>\n",
       "    <tr>\n",
       "      <th>2010-01-11</th>\n",
       "      <td>30.015684</td>\n",
       "      <td>NaN</td>\n",
       "      <td>NaN</td>\n",
       "      <td>NaN</td>\n",
       "    </tr>\n",
       "    <tr>\n",
       "      <th>2010-01-12</th>\n",
       "      <td>29.674256</td>\n",
       "      <td>NaN</td>\n",
       "      <td>NaN</td>\n",
       "      <td>NaN</td>\n",
       "    </tr>\n",
       "    <tr>\n",
       "      <th>2010-01-13</th>\n",
       "      <td>30.092827</td>\n",
       "      <td>NaN</td>\n",
       "      <td>NaN</td>\n",
       "      <td>NaN</td>\n",
       "    </tr>\n",
       "    <tr>\n",
       "      <th>2010-01-14</th>\n",
       "      <td>29.918542</td>\n",
       "      <td>NaN</td>\n",
       "      <td>NaN</td>\n",
       "      <td>NaN</td>\n",
       "    </tr>\n",
       "    <tr>\n",
       "      <th>2010-01-15</th>\n",
       "      <td>29.418542</td>\n",
       "      <td>NaN</td>\n",
       "      <td>NaN</td>\n",
       "      <td>NaN</td>\n",
       "    </tr>\n",
       "    <tr>\n",
       "      <th>2010-01-19</th>\n",
       "      <td>30.719969</td>\n",
       "      <td>NaN</td>\n",
       "      <td>NaN</td>\n",
       "      <td>NaN</td>\n",
       "    </tr>\n",
       "    <tr>\n",
       "      <th>2010-01-20</th>\n",
       "      <td>30.246398</td>\n",
       "      <td>NaN</td>\n",
       "      <td>NaN</td>\n",
       "      <td>NaN</td>\n",
       "    </tr>\n",
       "    <tr>\n",
       "      <th>2010-01-21</th>\n",
       "      <td>29.724542</td>\n",
       "      <td>NaN</td>\n",
       "      <td>NaN</td>\n",
       "      <td>NaN</td>\n",
       "    </tr>\n",
       "    <tr>\n",
       "      <th>2010-01-22</th>\n",
       "      <td>28.249972</td>\n",
       "      <td>NaN</td>\n",
       "      <td>NaN</td>\n",
       "      <td>NaN</td>\n",
       "    </tr>\n",
       "    <tr>\n",
       "      <th>2010-01-25</th>\n",
       "      <td>29.010685</td>\n",
       "      <td>NaN</td>\n",
       "      <td>NaN</td>\n",
       "      <td>NaN</td>\n",
       "    </tr>\n",
       "    <tr>\n",
       "      <th>2010-01-26</th>\n",
       "      <td>29.419971</td>\n",
       "      <td>NaN</td>\n",
       "      <td>NaN</td>\n",
       "      <td>NaN</td>\n",
       "    </tr>\n",
       "    <tr>\n",
       "      <th>2010-01-27</th>\n",
       "      <td>29.697685</td>\n",
       "      <td>NaN</td>\n",
       "      <td>NaN</td>\n",
       "      <td>NaN</td>\n",
       "    </tr>\n",
       "    <tr>\n",
       "      <th>2010-01-28</th>\n",
       "      <td>28.469972</td>\n",
       "      <td>NaN</td>\n",
       "      <td>NaN</td>\n",
       "      <td>NaN</td>\n",
       "    </tr>\n",
       "    <tr>\n",
       "      <th>2010-01-29</th>\n",
       "      <td>27.437544</td>\n",
       "      <td>NaN</td>\n",
       "      <td>NaN</td>\n",
       "      <td>NaN</td>\n",
       "    </tr>\n",
       "    <tr>\n",
       "      <th>2010-02-01</th>\n",
       "      <td>27.818544</td>\n",
       "      <td>NaN</td>\n",
       "      <td>NaN</td>\n",
       "      <td>NaN</td>\n",
       "    </tr>\n",
       "    <tr>\n",
       "      <th>2010-02-02</th>\n",
       "      <td>27.979972</td>\n",
       "      <td>NaN</td>\n",
       "      <td>NaN</td>\n",
       "      <td>NaN</td>\n",
       "    </tr>\n",
       "    <tr>\n",
       "      <th>2010-02-03</th>\n",
       "      <td>28.461400</td>\n",
       "      <td>NaN</td>\n",
       "      <td>NaN</td>\n",
       "      <td>NaN</td>\n",
       "    </tr>\n",
       "    <tr>\n",
       "      <th>2010-02-04</th>\n",
       "      <td>27.435687</td>\n",
       "      <td>NaN</td>\n",
       "      <td>NaN</td>\n",
       "      <td>NaN</td>\n",
       "    </tr>\n",
       "    <tr>\n",
       "      <th>2010-02-05</th>\n",
       "      <td>27.922829</td>\n",
       "      <td>NaN</td>\n",
       "      <td>NaN</td>\n",
       "      <td>NaN</td>\n",
       "    </tr>\n",
       "    <tr>\n",
       "      <th>2010-02-08</th>\n",
       "      <td>27.731401</td>\n",
       "      <td>NaN</td>\n",
       "      <td>NaN</td>\n",
       "      <td>NaN</td>\n",
       "    </tr>\n",
       "    <tr>\n",
       "      <th>2010-02-09</th>\n",
       "      <td>28.027115</td>\n",
       "      <td>NaN</td>\n",
       "      <td>NaN</td>\n",
       "      <td>NaN</td>\n",
       "    </tr>\n",
       "    <tr>\n",
       "      <th>2010-02-10</th>\n",
       "      <td>27.873686</td>\n",
       "      <td>NaN</td>\n",
       "      <td>NaN</td>\n",
       "      <td>NaN</td>\n",
       "    </tr>\n",
       "    <tr>\n",
       "      <th>2010-02-11</th>\n",
       "      <td>28.381400</td>\n",
       "      <td>NaN</td>\n",
       "      <td>NaN</td>\n",
       "      <td>NaN</td>\n",
       "    </tr>\n",
       "    <tr>\n",
       "      <th>2010-02-12</th>\n",
       "      <td>28.625686</td>\n",
       "      <td>NaN</td>\n",
       "      <td>NaN</td>\n",
       "      <td>NaN</td>\n",
       "    </tr>\n",
       "    <tr>\n",
       "      <th>2010-02-16</th>\n",
       "      <td>29.057114</td>\n",
       "      <td>NaN</td>\n",
       "      <td>NaN</td>\n",
       "      <td>NaN</td>\n",
       "    </tr>\n",
       "    <tr>\n",
       "      <th>...</th>\n",
       "      <td>...</td>\n",
       "      <td>...</td>\n",
       "      <td>...</td>\n",
       "      <td>...</td>\n",
       "    </tr>\n",
       "    <tr>\n",
       "      <th>2017-09-20</th>\n",
       "      <td>156.070000</td>\n",
       "      <td>158.241429</td>\n",
       "      <td>135.863274</td>\n",
       "      <td>22.38</td>\n",
       "    </tr>\n",
       "    <tr>\n",
       "      <th>2017-09-21</th>\n",
       "      <td>153.390000</td>\n",
       "      <td>158.272381</td>\n",
       "      <td>136.021369</td>\n",
       "      <td>22.25</td>\n",
       "    </tr>\n",
       "    <tr>\n",
       "      <th>2017-09-22</th>\n",
       "      <td>151.890000</td>\n",
       "      <td>158.252143</td>\n",
       "      <td>136.169266</td>\n",
       "      <td>22.08</td>\n",
       "    </tr>\n",
       "    <tr>\n",
       "      <th>2017-09-25</th>\n",
       "      <td>150.550000</td>\n",
       "      <td>158.182857</td>\n",
       "      <td>136.319425</td>\n",
       "      <td>21.86</td>\n",
       "    </tr>\n",
       "    <tr>\n",
       "      <th>2017-09-26</th>\n",
       "      <td>153.140000</td>\n",
       "      <td>158.244286</td>\n",
       "      <td>136.479187</td>\n",
       "      <td>21.76</td>\n",
       "    </tr>\n",
       "    <tr>\n",
       "      <th>2017-09-27</th>\n",
       "      <td>154.230000</td>\n",
       "      <td>158.356905</td>\n",
       "      <td>136.642440</td>\n",
       "      <td>21.72</td>\n",
       "    </tr>\n",
       "    <tr>\n",
       "      <th>2017-09-28</th>\n",
       "      <td>153.280000</td>\n",
       "      <td>158.465238</td>\n",
       "      <td>136.798512</td>\n",
       "      <td>21.67</td>\n",
       "    </tr>\n",
       "    <tr>\n",
       "      <th>2017-09-29</th>\n",
       "      <td>154.120000</td>\n",
       "      <td>158.562143</td>\n",
       "      <td>136.964940</td>\n",
       "      <td>21.60</td>\n",
       "    </tr>\n",
       "    <tr>\n",
       "      <th>2017-10-02</th>\n",
       "      <td>153.810000</td>\n",
       "      <td>158.482857</td>\n",
       "      <td>137.126687</td>\n",
       "      <td>21.35</td>\n",
       "    </tr>\n",
       "    <tr>\n",
       "      <th>2017-10-03</th>\n",
       "      <td>154.480000</td>\n",
       "      <td>158.456905</td>\n",
       "      <td>137.293194</td>\n",
       "      <td>21.17</td>\n",
       "    </tr>\n",
       "    <tr>\n",
       "      <th>2017-10-04</th>\n",
       "      <td>153.480000</td>\n",
       "      <td>158.387619</td>\n",
       "      <td>137.453829</td>\n",
       "      <td>20.94</td>\n",
       "    </tr>\n",
       "    <tr>\n",
       "      <th>2017-10-05</th>\n",
       "      <td>155.390000</td>\n",
       "      <td>158.306190</td>\n",
       "      <td>137.621845</td>\n",
       "      <td>20.69</td>\n",
       "    </tr>\n",
       "    <tr>\n",
       "      <th>2017-10-06</th>\n",
       "      <td>155.300000</td>\n",
       "      <td>158.192381</td>\n",
       "      <td>137.786171</td>\n",
       "      <td>20.40</td>\n",
       "    </tr>\n",
       "    <tr>\n",
       "      <th>2017-10-09</th>\n",
       "      <td>155.840000</td>\n",
       "      <td>158.068095</td>\n",
       "      <td>137.951964</td>\n",
       "      <td>20.12</td>\n",
       "    </tr>\n",
       "    <tr>\n",
       "      <th>2017-10-10</th>\n",
       "      <td>155.900000</td>\n",
       "      <td>158.081905</td>\n",
       "      <td>138.110099</td>\n",
       "      <td>19.97</td>\n",
       "    </tr>\n",
       "    <tr>\n",
       "      <th>2017-10-11</th>\n",
       "      <td>156.550000</td>\n",
       "      <td>158.059762</td>\n",
       "      <td>138.269821</td>\n",
       "      <td>19.79</td>\n",
       "    </tr>\n",
       "    <tr>\n",
       "      <th>2017-10-12</th>\n",
       "      <td>156.000000</td>\n",
       "      <td>157.968095</td>\n",
       "      <td>138.423234</td>\n",
       "      <td>19.55</td>\n",
       "    </tr>\n",
       "    <tr>\n",
       "      <th>2017-10-13</th>\n",
       "      <td>156.990000</td>\n",
       "      <td>157.858333</td>\n",
       "      <td>138.582004</td>\n",
       "      <td>19.28</td>\n",
       "    </tr>\n",
       "    <tr>\n",
       "      <th>2017-10-16</th>\n",
       "      <td>159.880000</td>\n",
       "      <td>157.832857</td>\n",
       "      <td>138.749663</td>\n",
       "      <td>19.08</td>\n",
       "    </tr>\n",
       "    <tr>\n",
       "      <th>2017-10-17</th>\n",
       "      <td>160.470000</td>\n",
       "      <td>157.895000</td>\n",
       "      <td>138.919980</td>\n",
       "      <td>18.97</td>\n",
       "    </tr>\n",
       "    <tr>\n",
       "      <th>2017-10-18</th>\n",
       "      <td>159.760000</td>\n",
       "      <td>157.948810</td>\n",
       "      <td>139.087798</td>\n",
       "      <td>18.86</td>\n",
       "    </tr>\n",
       "    <tr>\n",
       "      <th>2017-10-19</th>\n",
       "      <td>155.980000</td>\n",
       "      <td>157.919524</td>\n",
       "      <td>139.242004</td>\n",
       "      <td>18.68</td>\n",
       "    </tr>\n",
       "    <tr>\n",
       "      <th>2017-10-20</th>\n",
       "      <td>156.250000</td>\n",
       "      <td>157.835476</td>\n",
       "      <td>139.397520</td>\n",
       "      <td>18.44</td>\n",
       "    </tr>\n",
       "    <tr>\n",
       "      <th>2017-10-23</th>\n",
       "      <td>156.170000</td>\n",
       "      <td>157.744762</td>\n",
       "      <td>139.554544</td>\n",
       "      <td>18.19</td>\n",
       "    </tr>\n",
       "    <tr>\n",
       "      <th>2017-10-24</th>\n",
       "      <td>157.100000</td>\n",
       "      <td>157.693095</td>\n",
       "      <td>139.711091</td>\n",
       "      <td>17.98</td>\n",
       "    </tr>\n",
       "    <tr>\n",
       "      <th>2017-10-25</th>\n",
       "      <td>156.410000</td>\n",
       "      <td>157.610952</td>\n",
       "      <td>139.862520</td>\n",
       "      <td>17.75</td>\n",
       "    </tr>\n",
       "    <tr>\n",
       "      <th>2017-10-26</th>\n",
       "      <td>157.410000</td>\n",
       "      <td>157.514286</td>\n",
       "      <td>140.028472</td>\n",
       "      <td>17.48</td>\n",
       "    </tr>\n",
       "    <tr>\n",
       "      <th>2017-10-27</th>\n",
       "      <td>163.050000</td>\n",
       "      <td>157.517619</td>\n",
       "      <td>140.221210</td>\n",
       "      <td>17.30</td>\n",
       "    </tr>\n",
       "    <tr>\n",
       "      <th>2017-10-30</th>\n",
       "      <td>166.720000</td>\n",
       "      <td>157.597857</td>\n",
       "      <td>140.431528</td>\n",
       "      <td>17.17</td>\n",
       "    </tr>\n",
       "    <tr>\n",
       "      <th>2017-10-31</th>\n",
       "      <td>169.040000</td>\n",
       "      <td>157.717857</td>\n",
       "      <td>140.651766</td>\n",
       "      <td>17.07</td>\n",
       "    </tr>\n",
       "  </tbody>\n",
       "</table>\n",
       "<p>1972 rows × 4 columns</p>\n",
       "</div>"
      ],
      "text/plain": [
       "                 Close         42d        252d  42-252\n",
       "Date                                                  \n",
       "2010-01-04   30.572827         NaN         NaN     NaN\n",
       "2010-01-05   30.625684         NaN         NaN     NaN\n",
       "2010-01-06   30.138541         NaN         NaN     NaN\n",
       "2010-01-07   30.082827         NaN         NaN     NaN\n",
       "2010-01-08   30.282827         NaN         NaN     NaN\n",
       "2010-01-11   30.015684         NaN         NaN     NaN\n",
       "2010-01-12   29.674256         NaN         NaN     NaN\n",
       "2010-01-13   30.092827         NaN         NaN     NaN\n",
       "2010-01-14   29.918542         NaN         NaN     NaN\n",
       "2010-01-15   29.418542         NaN         NaN     NaN\n",
       "2010-01-19   30.719969         NaN         NaN     NaN\n",
       "2010-01-20   30.246398         NaN         NaN     NaN\n",
       "2010-01-21   29.724542         NaN         NaN     NaN\n",
       "2010-01-22   28.249972         NaN         NaN     NaN\n",
       "2010-01-25   29.010685         NaN         NaN     NaN\n",
       "2010-01-26   29.419971         NaN         NaN     NaN\n",
       "2010-01-27   29.697685         NaN         NaN     NaN\n",
       "2010-01-28   28.469972         NaN         NaN     NaN\n",
       "2010-01-29   27.437544         NaN         NaN     NaN\n",
       "2010-02-01   27.818544         NaN         NaN     NaN\n",
       "2010-02-02   27.979972         NaN         NaN     NaN\n",
       "2010-02-03   28.461400         NaN         NaN     NaN\n",
       "2010-02-04   27.435687         NaN         NaN     NaN\n",
       "2010-02-05   27.922829         NaN         NaN     NaN\n",
       "2010-02-08   27.731401         NaN         NaN     NaN\n",
       "2010-02-09   28.027115         NaN         NaN     NaN\n",
       "2010-02-10   27.873686         NaN         NaN     NaN\n",
       "2010-02-11   28.381400         NaN         NaN     NaN\n",
       "2010-02-12   28.625686         NaN         NaN     NaN\n",
       "2010-02-16   29.057114         NaN         NaN     NaN\n",
       "...                ...         ...         ...     ...\n",
       "2017-09-20  156.070000  158.241429  135.863274   22.38\n",
       "2017-09-21  153.390000  158.272381  136.021369   22.25\n",
       "2017-09-22  151.890000  158.252143  136.169266   22.08\n",
       "2017-09-25  150.550000  158.182857  136.319425   21.86\n",
       "2017-09-26  153.140000  158.244286  136.479187   21.76\n",
       "2017-09-27  154.230000  158.356905  136.642440   21.72\n",
       "2017-09-28  153.280000  158.465238  136.798512   21.67\n",
       "2017-09-29  154.120000  158.562143  136.964940   21.60\n",
       "2017-10-02  153.810000  158.482857  137.126687   21.35\n",
       "2017-10-03  154.480000  158.456905  137.293194   21.17\n",
       "2017-10-04  153.480000  158.387619  137.453829   20.94\n",
       "2017-10-05  155.390000  158.306190  137.621845   20.69\n",
       "2017-10-06  155.300000  158.192381  137.786171   20.40\n",
       "2017-10-09  155.840000  158.068095  137.951964   20.12\n",
       "2017-10-10  155.900000  158.081905  138.110099   19.97\n",
       "2017-10-11  156.550000  158.059762  138.269821   19.79\n",
       "2017-10-12  156.000000  157.968095  138.423234   19.55\n",
       "2017-10-13  156.990000  157.858333  138.582004   19.28\n",
       "2017-10-16  159.880000  157.832857  138.749663   19.08\n",
       "2017-10-17  160.470000  157.895000  138.919980   18.97\n",
       "2017-10-18  159.760000  157.948810  139.087798   18.86\n",
       "2017-10-19  155.980000  157.919524  139.242004   18.68\n",
       "2017-10-20  156.250000  157.835476  139.397520   18.44\n",
       "2017-10-23  156.170000  157.744762  139.554544   18.19\n",
       "2017-10-24  157.100000  157.693095  139.711091   17.98\n",
       "2017-10-25  156.410000  157.610952  139.862520   17.75\n",
       "2017-10-26  157.410000  157.514286  140.028472   17.48\n",
       "2017-10-27  163.050000  157.517619  140.221210   17.30\n",
       "2017-10-30  166.720000  157.597857  140.431528   17.17\n",
       "2017-10-31  169.040000  157.717857  140.651766   17.07\n",
       "\n",
       "[1972 rows x 4 columns]"
      ]
     },
     "execution_count": 35,
     "metadata": {},
     "output_type": "execute_result"
    }
   ],
   "source": [
    "AAPL['42d'] = AAPL['Close'].rolling(window=42).mean()\n",
    "AAPL['252d'] = AAPL['Close'].rolling(window=252).mean()\n",
    "AAPL"
   ]
  },
  {
   "cell_type": "code",
   "execution_count": 36,
   "metadata": {
    "collapsed": false
   },
   "outputs": [
    {
     "data": {
      "text/html": [
       "<div>\n",
       "<style>\n",
       "    .dataframe thead tr:only-child th {\n",
       "        text-align: right;\n",
       "    }\n",
       "\n",
       "    .dataframe thead th {\n",
       "        text-align: left;\n",
       "    }\n",
       "\n",
       "    .dataframe tbody tr th {\n",
       "        vertical-align: top;\n",
       "    }\n",
       "</style>\n",
       "<table border=\"1\" class=\"dataframe\">\n",
       "  <thead>\n",
       "    <tr style=\"text-align: right;\">\n",
       "      <th></th>\n",
       "      <th>Close</th>\n",
       "      <th>42d</th>\n",
       "      <th>252d</th>\n",
       "    </tr>\n",
       "    <tr>\n",
       "      <th>Date</th>\n",
       "      <th></th>\n",
       "      <th></th>\n",
       "      <th></th>\n",
       "    </tr>\n",
       "  </thead>\n",
       "  <tbody>\n",
       "    <tr>\n",
       "      <th>2017-10-25</th>\n",
       "      <td>156.41</td>\n",
       "      <td>157.610952</td>\n",
       "      <td>139.862520</td>\n",
       "    </tr>\n",
       "    <tr>\n",
       "      <th>2017-10-26</th>\n",
       "      <td>157.41</td>\n",
       "      <td>157.514286</td>\n",
       "      <td>140.028472</td>\n",
       "    </tr>\n",
       "    <tr>\n",
       "      <th>2017-10-27</th>\n",
       "      <td>163.05</td>\n",
       "      <td>157.517619</td>\n",
       "      <td>140.221210</td>\n",
       "    </tr>\n",
       "    <tr>\n",
       "      <th>2017-10-30</th>\n",
       "      <td>166.72</td>\n",
       "      <td>157.597857</td>\n",
       "      <td>140.431528</td>\n",
       "    </tr>\n",
       "    <tr>\n",
       "      <th>2017-10-31</th>\n",
       "      <td>169.04</td>\n",
       "      <td>157.717857</td>\n",
       "      <td>140.651766</td>\n",
       "    </tr>\n",
       "  </tbody>\n",
       "</table>\n",
       "</div>"
      ],
      "text/plain": [
       "             Close         42d        252d\n",
       "Date                                      \n",
       "2017-10-25  156.41  157.610952  139.862520\n",
       "2017-10-26  157.41  157.514286  140.028472\n",
       "2017-10-27  163.05  157.517619  140.221210\n",
       "2017-10-30  166.72  157.597857  140.431528\n",
       "2017-10-31  169.04  157.717857  140.651766"
      ]
     },
     "execution_count": 36,
     "metadata": {},
     "output_type": "execute_result"
    }
   ],
   "source": [
    "AAPL[['Close', '42d', '252d']].tail()"
   ]
  },
  {
   "cell_type": "code",
   "execution_count": 33,
   "metadata": {
    "collapsed": false
   },
   "outputs": [
    {
     "data": {
      "text/plain": [
       "<matplotlib.axes._subplots.AxesSubplot at 0xb6b4f0>"
      ]
     },
     "execution_count": 33,
     "metadata": {},
     "output_type": "execute_result"
    },
    {
     "data": {
      "image/png": "[encoded data removed]",
      "text/plain": [
       "<matplotlib.figure.Figure at 0xcf9a4d0>"
      ]
     },
     "metadata": {},
     "output_type": "display_data"
    }
   ],
   "source": [
    "AAPL[['Close', '42d', '252d']].plot(grid=True, figsize=(8, 5))"
   ]
  },
  {
   "cell_type": "code",
   "execution_count": 34,
   "metadata": {
    "collapsed": false
   },
   "outputs": [
    {
     "data": {
      "text/plain": [
       "Date\n",
       "2017-10-25    17.75\n",
       "2017-10-26    17.48\n",
       "2017-10-27    17.30\n",
       "2017-10-30    17.17\n",
       "2017-10-31    17.07\n",
       "Name: 42-252, dtype: float64"
      ]
     },
     "execution_count": 34,
     "metadata": {},
     "output_type": "execute_result"
    }
   ],
   "source": [
    "AAPL['42-252'] = AAPL['42d'] - AAPL['252d']\n",
    "AAPL['42-252'].tail()"
   ]
  },
  {
   "cell_type": "code",
   "execution_count": 36,
   "metadata": {
    "collapsed": false
   },
   "outputs": [
    {
     "data": {
      "text/plain": [
       "Date\n",
       "2010-01-04   NaN\n",
       "2010-01-05   NaN\n",
       "2010-01-06   NaN\n",
       "2010-01-07   NaN\n",
       "2010-01-08   NaN\n",
       "Name: 42-252, dtype: float64"
      ]
     },
     "execution_count": 36,
     "metadata": {},
     "output_type": "execute_result"
    }
   ],
   "source": [
    "AAPL['42-252'].head()"
   ]
  },
  {
   "cell_type": "code",
   "execution_count": 37,
   "metadata": {
    "collapsed": true
   },
   "outputs": [],
   "source": [
    "AAPL.dropna(inplace=True)"
   ]
  },
  {
   "cell_type": "code",
   "execution_count": 39,
   "metadata": {
    "collapsed": false
   },
   "outputs": [
    {
     "data": {
      "text/plain": [
       "Date\n",
       "2010-12-31    8.16\n",
       "2011-01-03    8.16\n",
       "2011-01-04    8.16\n",
       "2011-01-05    8.15\n",
       "2011-01-06    8.13\n",
       "Name: 42-252, dtype: float64"
      ]
     },
     "execution_count": 39,
     "metadata": {},
     "output_type": "execute_result"
    }
   ],
   "source": [
    "AAPL['42-252'].head()"
   ]
  },
  {
   "cell_type": "code",
   "execution_count": 40,
   "metadata": {
    "collapsed": false
   },
   "outputs": [
    {
     "data": {
      "text/plain": [
       " 1    1260\n",
       "-1     445\n",
       " 0      16\n",
       "Name: Position, dtype: int64"
      ]
     },
     "execution_count": 40,
     "metadata": {},
     "output_type": "execute_result"
    }
   ],
   "source": [
    "SD = 0.5\n",
    "AAPL['Position'] = np.where(AAPL['42-252'] > SD, 1, 0)\n",
    "AAPL['Position'] = np.where(AAPL['42-252'] < -SD, -1, AAPL['Position'])\n",
    "AAPL['Position'].value_counts()"
   ]
  },
  {
   "cell_type": "code",
   "execution_count": 41,
   "metadata": {
    "collapsed": false
   },
   "outputs": [
    {
     "data": {
      "image/png": "[encoded data removed]",
      "text/plain": [
       "<matplotlib.figure.Figure at 0x2c3d21d0>"
      ]
     },
     "metadata": {},
     "output_type": "display_data"
    }
   ],
   "source": [
    "AAPL['Position'].plot(lw=1.5, grid=True)\n",
    "plt.ylim([-1.1, 1.1]);"
   ]
  },
  {
   "cell_type": "code",
   "execution_count": 42,
   "metadata": {
    "collapsed": true
   },
   "outputs": [],
   "source": [
    "AAPL['Market'] = np.log(AAPL['Close'] / AAPL['Close'].shift(1))"
   ]
  },
  {
   "cell_type": "code",
   "execution_count": 43,
   "metadata": {
    "collapsed": true
   },
   "outputs": [],
   "source": [
    "AAPL['Strategy'] = AAPL['Position'].shift(1) * AAPL['Market']"
   ]
  },
  {
   "cell_type": "code",
   "execution_count": 44,
   "metadata": {
    "collapsed": false
   },
   "outputs": [
    {
     "data": {
      "image/png": "[encoded data removed]",
      "text/plain": [
       "<matplotlib.figure.Figure at 0x2c3b24f0>"
      ]
     },
     "metadata": {},
     "output_type": "display_data"
    }
   ],
   "source": [
    "AAPL[['Market', 'Strategy']].cumsum().apply(np.exp).plot(grid=True,\n",
    "                                                    figsize=(8, 5));"
   ]
  },
  {
   "cell_type": "code",
   "execution_count": null,
   "metadata": {
    "collapsed": true
   },
   "outputs": [],
   "source": []
  }
 ],
 "metadata": {
  "kernelspec": {
   "display_name": "Python 3",
   "language": "python",
   "name": "python3"
  },
  "language_info": {
   "codemirror_mode": {
    "name": "ipython",
    "version": 3
   },
   "file_extension": ".py",
   "mimetype": "text/x-python",
   "name": "python",
   "nbconvert_exporter": "python",
   "pygments_lexer": "ipython3",
   "version": "3.4.2"
  }
 },
 "nbformat": 4,
 "nbformat_minor": 1
}
